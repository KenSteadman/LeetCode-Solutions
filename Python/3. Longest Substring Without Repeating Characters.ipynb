{
 "cells": [
  {
   "cell_type": "markdown",
   "metadata": {},
   "source": [
    "# Longest Substring Without Repeating Characters\n",
    "\n",
    "Given a string s, find the length of the longest substring without repeating characters.\n",
    "\n",
    "Example 1:\n",
    "\n",
    "Input: s = \"abcabcbb\"\n",
    "Output: 3\n",
    "Explanation: The answer is \"abc\", with the length of 3.\n",
    "Example 2:\n",
    "\n",
    "Input: s = \"bbbbb\"\n",
    "Output: 1\n",
    "Explanation: The answer is \"b\", with the length of 1.\n",
    "Example 3:\n",
    "\n",
    "Input: s = \"pwwkew\"\n",
    "Output: 3\n",
    "Explanation: The answer is \"wke\", with the length of 3.\n",
    "Notice that the answer must be a substring, \"pwke\" is a subsequence and not a substring.\n",
    " \n",
    "## Constraints:\n",
    "\n",
    "0 <= s.length <= 5 * 104\n",
    "s consists of English letters, digits, symbols and spaces."
   ]
  },
  {
   "cell_type": "code",
   "execution_count": 36,
   "metadata": {},
   "outputs": [],
   "source": [
    "class Solution:\n",
    "    def lengthOfLongestSubstring(self, s: str) -> int:\n",
    "        max_length = 0\n",
    "        been_seen = {}\n",
    "        start = 0\n",
    "\n",
    "        for end in range(len(s)):\n",
    "            if s[end] in been_seen:\n",
    "                start = max(start, been_seen[s[end]] + 1)\n",
    "            been_seen[s[end]] = end\n",
    "            max_length = max(max_length, end-start + 1)\n",
    "        return max_length\n",
    "\n",
    "\n",
    "    # def lengthOfLongestSubstring(self, string: str) -> int:\n",
    "      \n",
    "    # # Creating a set to store the last positions of occurrence\n",
    "    #     seen = {}\n",
    "    #     maximum_length = 0\n",
    "    \n",
    "    #     # starting the initial point of window to index 0\n",
    "    #     start = 0\n",
    "        \n",
    "    #     for end in range(len(string)):\n",
    "    \n",
    "    #         # Checking if we have already seen the element or not\n",
    "    #         if string[end] in seen:\n",
    "    \n",
    "    #             # If we have seen the number, move the start pointer\n",
    "    #             # to position after the last occurrence\n",
    "    #             start = max(start, seen[string[end]] + 1)\n",
    "    \n",
    "    #         # Updating the last seen value of the character\n",
    "    #         seen[string[end]] = end\n",
    "    #         maximum_length = max(maximum_length, end-start + 1)\n",
    "    #     return maximum_length"
   ]
  },
  {
   "cell_type": "code",
   "execution_count": 37,
   "metadata": {},
   "outputs": [
    {
     "name": "stdout",
     "output_type": "stream",
     "text": [
      "3\n",
      "1\n",
      "3\n",
      "0\n",
      "1\n"
     ]
    }
   ],
   "source": [
    "# Test\n",
    "s = Solution()\n",
    "print(s.lengthOfLongestSubstring(\"abcabcbb\"))\n",
    "print(s.lengthOfLongestSubstring(\"bbbbb\"))\n",
    "print(s.lengthOfLongestSubstring(\"pwwkew\"))\n",
    "print(s.lengthOfLongestSubstring(\"\"))   \n",
    "print(s.lengthOfLongestSubstring(\"a\"))"
   ]
  }
 ],
 "metadata": {
  "kernelspec": {
   "display_name": "Python 3.9.12 ('base')",
   "language": "python",
   "name": "python3"
  },
  "language_info": {
   "codemirror_mode": {
    "name": "ipython",
    "version": 3
   },
   "file_extension": ".py",
   "mimetype": "text/x-python",
   "name": "python",
   "nbconvert_exporter": "python",
   "pygments_lexer": "ipython3",
   "version": "3.9.12"
  },
  "orig_nbformat": 4,
  "vscode": {
   "interpreter": {
    "hash": "4cd71ee66f1b5916c708019de2eae6821c91af269ce6146272c857c0855bf90e"
   }
  }
 },
 "nbformat": 4,
 "nbformat_minor": 2
}
